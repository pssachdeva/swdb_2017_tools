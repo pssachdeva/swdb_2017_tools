{
 "cells": [
  {
   "cell_type": "code",
   "execution_count": 2,
   "metadata": {
    "collapsed": true
   },
   "outputs": [],
   "source": [
    "#Import Modules\n",
    "import os\n",
    "import deconvolution_tools as dt\n",
    "import numpy as np\n",
    "import pandas as pd\n",
    "import pickle\n",
    "\n",
    "%matplotlib inline\n"
   ]
  },
  {
   "cell_type": "code",
   "execution_count": 3,
   "metadata": {},
   "outputs": [
    {
     "name": "stdout",
     "output_type": "stream",
     "text": [
      "[u'Cux2-CreERT2', u'Emx1-IRES-Cre', u'Nr5a1-Cre', u'Rbp4-Cre_KL100', u'Rorb-IRES2-Cre', u'Scnn1a-Tg3-Cre']\n",
      "[u'VISal', u'VISam', u'VISl', u'VISp', u'VISpm', u'VISrl']\n"
     ]
    }
   ],
   "source": [
    "drive_path = '/Volumes/Brain2017/data/dynamic-brain-workshop/brain_observatory_cache/'\n",
    "\n",
    "from allensdk.core.brain_observatory_cache import BrainObservatoryCache\n",
    "manifest_file = os.path.join(drive_path,'brain_observatory_manifest.json')\n",
    "boc = BrainObservatoryCache(manifest_file=manifest_file)\n",
    "\n",
    "print boc.get_all_cre_lines()\n",
    "print boc.get_all_targeted_structures()"
   ]
  },
  {
   "cell_type": "code",
   "execution_count": 4,
   "metadata": {
    "collapsed": true
   },
   "outputs": [],
   "source": [
    "def save_spiking_data(boc,ophys_experiment_id, session_type, export_path):\n",
    "    \n",
    "    dataset = boc.get_ophys_experiment_data(ophys_experiment_id=ophys_experiment_id)\n",
    "    spikes, timestamps, spike_times, isis = dt.get_epoch_spiking_data(boc=boc,ophys_experiment_id=ophys_experiment_id,num_std=5)\n",
    "    print 'Collected spike data for ' + str(ophys_experiment_id)\n",
    "    metadata = dataset.get_metadata()\n",
    "    \n",
    "    cre_line = metadata['cre_line'].split('-')[0]\n",
    "    structure = metadata['targeted_structure']\n",
    "    \n",
    "    \n",
    "    filename = export_path + structure + '_' + cre_line + '_'+ session_type + '_' + str(ophys_experiment_id) + '.p'\n",
    "    \n",
    "    \n",
    "    with open(filename, 'w') as f:  # Python 3: open(..., 'wb')\n",
    "        pickle.dump([timestamps, spike_times, metadata] ,f)\n",
    "    print 'Saved ' + filename\n"
   ]
  },
  {
   "cell_type": "code",
   "execution_count": 6,
   "metadata": {
    "scrolled": true
   },
   "outputs": [
    {
     "name": "stdout",
     "output_type": "stream",
     "text": [
      "Total Number of Experiments: 54\n"
     ]
    },
    {
     "name": "stderr",
     "output_type": "stream",
     "text": [
      "/Users/perryspratt/anaconda/lib/python2.7/site-packages/OASIS/functions.py:15: UserWarning: Could not find cvxpy. Don't worry, you can still use OASIS, just not the slower interior point methods we compared to in the papers.\n",
      "  \"just not the slower interior point methods we compared to in the papers.\")\n"
     ]
    },
    {
     "name": "stdout",
     "output_type": "stream",
     "text": [
      "Collected spike data for 500947031\n",
      "Saved /Volumes/Brain2017/spike_time_data/VISp_Rorb_B_500947031.p\n",
      "Collected spike data for 501794235\n",
      "Saved /Volumes/Brain2017/spike_time_data/VISp_Cux2_B_501794235.p\n",
      "Collected spike data for 541206592\n",
      "Saved /Volumes/Brain2017/spike_time_data/VISp_Scnn1a_B_541206592.p\n",
      "Collected spike data for 512124564\n",
      "Saved /Volumes/Brain2017/spike_time_data/VISp_Rorb_B_512124564.p\n",
      "Collected spike data for 531124922\n",
      "Saved /Volumes/Brain2017/spike_time_data/VISp_Rorb_B_531124922.p\n",
      "Collected spike data for 528972913\n",
      "Saved /Volumes/Brain2017/spike_time_data/VISp_Nr5a1_B_528972913.p\n",
      "Collected spike data for 559082739\n",
      "Saved /Volumes/Brain2017/spike_time_data/VISp_Rbp4_B_559082739.p\n",
      "Collected spike data for 570014520\n",
      "Saved /Volumes/Brain2017/spike_time_data/VISp_Nr5a1_B_570014520.p\n",
      "Collected spike data for 508596945\n",
      "Saved /Volumes/Brain2017/spike_time_data/VISp_Scnn1a_B_508596945.p\n",
      "Collected spike data for 501317920\n",
      "Saved /Volumes/Brain2017/spike_time_data/VISp_Cux2_B_501317920.p\n",
      "Collected spike data for 500964514\n",
      "Saved /Volumes/Brain2017/spike_time_data/VISp_Cux2_B_500964514.p\n",
      "Collected spike data for 541048140\n",
      "Saved /Volumes/Brain2017/spike_time_data/VISp_Emx1_B_541048140.p\n",
      "Collected spike data for 496908818\n",
      "Saved /Volumes/Brain2017/spike_time_data/VISp_Rorb_B_496908818.p\n",
      "Collected spike data for 534002511\n",
      "Saved /Volumes/Brain2017/spike_time_data/VISp_Rorb_B_534002511.p\n",
      "Collected spike data for 510705057\n",
      "Saved /Volumes/Brain2017/spike_time_data/VISp_Cux2_B_510705057.p\n",
      "Collected spike data for 539291372\n",
      "Saved /Volumes/Brain2017/spike_time_data/VISp_Nr5a1_B_539291372.p\n",
      "Collected spike data for 508546728\n",
      "Saved /Volumes/Brain2017/spike_time_data/VISp_Scnn1a_B_508546728.p\n",
      "Collected spike data for 539525014\n",
      "Saved /Volumes/Brain2017/spike_time_data/VISp_Cux2_B_539525014.p\n",
      "Collected spike data for 501498760\n",
      "Saved /Volumes/Brain2017/spike_time_data/VISp_Cux2_B_501498760.p\n",
      "Collected spike data for 510345479\n",
      "Saved /Volumes/Brain2017/spike_time_data/VISp_Cux2_B_510345479.p\n",
      "Collected spike data for 500860585\n",
      "Saved /Volumes/Brain2017/spike_time_data/VISp_Scnn1a_B_500860585.p\n",
      "Collected spike data for 524848692\n",
      "Saved /Volumes/Brain2017/spike_time_data/VISp_Cux2_B_524848692.p\n",
      "Collected spike data for 529987437\n",
      "Saved /Volumes/Brain2017/spike_time_data/VISp_Rbp4_B_529987437.p\n",
      "Collected spike data for 547573479\n",
      "Saved /Volumes/Brain2017/spike_time_data/VISp_Scnn1a_B_547573479.p\n",
      "Collected spike data for 503019786\n",
      "Saved /Volumes/Brain2017/spike_time_data/VISp_Cux2_B_503019786.p\n",
      "Collected spike data for 528480613\n",
      "Saved /Volumes/Brain2017/spike_time_data/VISp_Rorb_B_528480613.p\n",
      "Collected spike data for 534128586\n",
      "Saved /Volumes/Brain2017/spike_time_data/VISp_Nr5a1_B_534128586.p\n",
      "Collected spike data for 531340264\n",
      "Saved /Volumes/Brain2017/spike_time_data/VISp_Nr5a1_B_531340264.p\n",
      "Collected spike data for 531342486\n",
      "Saved /Volumes/Brain2017/spike_time_data/VISp_Scnn1a_B_531342486.p\n",
      "Collected spike data for 540729056\n",
      "Saved /Volumes/Brain2017/spike_time_data/VISp_Emx1_B_540729056.p\n",
      "Collected spike data for 509600709\n",
      "Saved /Volumes/Brain2017/spike_time_data/VISp_Rbp4_B_509600709.p\n",
      "Collected spike data for 545578997\n",
      "Saved /Volumes/Brain2017/spike_time_data/VISp_Emx1_B_545578997.p\n",
      "Collected spike data for 511434920\n",
      "Saved /Volumes/Brain2017/spike_time_data/VISp_Scnn1a_B_511434920.p\n",
      "Collected spike data for 561994407\n",
      "Saved /Volumes/Brain2017/spike_time_data/VISp_Emx1_B_561994407.p\n",
      "Collected spike data for 528996585\n",
      "Saved /Volumes/Brain2017/spike_time_data/VISp_Nr5a1_B_528996585.p\n",
      "Collected spike data for 529763302\n",
      "Saved /Volumes/Brain2017/spike_time_data/VISp_Nr5a1_B_529763302.p\n",
      "Collected spike data for 530773844\n",
      "Saved /Volumes/Brain2017/spike_time_data/VISp_Scnn1a_B_530773844.p\n",
      "Collected spike data for 501886692\n",
      "Saved /Volumes/Brain2017/spike_time_data/VISp_Cux2_B_501886692.p\n",
      "Collected spike data for 501559087\n",
      "Saved /Volumes/Brain2017/spike_time_data/VISp_Cux2_B_501559087.p\n",
      "Collected spike data for 544507627\n",
      "Saved /Volumes/Brain2017/spike_time_data/VISp_Emx1_B_544507627.p\n",
      "Collected spike data for 570472763\n",
      "Saved /Volumes/Brain2017/spike_time_data/VISp_Nr5a1_B_570472763.p\n",
      "Collected spike data for 530618157\n",
      "Saved /Volumes/Brain2017/spike_time_data/VISp_Cux2_B_530618157.p\n",
      "Collected spike data for 527676626\n",
      "Saved /Volumes/Brain2017/spike_time_data/VISp_Cux2_B_527676626.p\n",
      "Collected spike data for 501567237\n",
      "Saved /Volumes/Brain2017/spike_time_data/VISp_Rorb_B_501567237.p\n",
      "Collected spike data for 571177752\n",
      "Saved /Volumes/Brain2017/spike_time_data/VISp_Rbp4_B_571177752.p\n",
      "Collected spike data for 526928092\n",
      "Saved /Volumes/Brain2017/spike_time_data/VISp_Emx1_B_526928092.p\n",
      "Collected spike data for 502368172\n",
      "Saved /Volumes/Brain2017/spike_time_data/VISp_Cux2_B_502368172.p\n",
      "Collected spike data for 539643002\n",
      "Saved /Volumes/Brain2017/spike_time_data/VISp_Scnn1a_B_539643002.p\n",
      "Collected spike data for 538803517\n",
      "Saved /Volumes/Brain2017/spike_time_data/VISp_Nr5a1_B_538803517.p\n",
      "Collected spike data for 509962140\n",
      "Saved /Volumes/Brain2017/spike_time_data/VISp_Rorb_B_509962140.p\n",
      "Collected spike data for 502810282\n",
      "Saved /Volumes/Brain2017/spike_time_data/VISp_Cux2_B_502810282.p\n",
      "Collected spike data for 528574532\n",
      "Saved /Volumes/Brain2017/spike_time_data/VISp_Emx1_B_528574532.p\n",
      "Collected spike data for 502741583\n",
      "Saved /Volumes/Brain2017/spike_time_data/VISp_Rbp4_B_502741583.p\n",
      "Collected spike data for 504808661\n",
      "Saved /Volumes/Brain2017/spike_time_data/VISp_Cux2_B_504808661.p\n"
     ]
    }
   ],
   "source": [
    "export_path = '/Volumes/Brain2017/spike_time_data/'\n",
    "session_type = 'B'\n",
    "\n",
    "exp_df = pd.DataFrame(boc.get_ophys_experiments(targeted_structures=['VISp']))\n",
    "exp_id_list = exp_df[exp_df.session_type == 'three_session_'+session_type]['id'].tolist()\n",
    "\n",
    "\n",
    "print 'Total Number of Experiments: ' + str(len(exp_id_list))\n",
    "\n",
    "for ophys_experiment_id in exp_id_list:\n",
    "    save_spiking_data(boc,ophys_experiment_id = ophys_experiment_id, session_type = session_type, export_path = export_path)\n",
    "    "
   ]
  },
  {
   "cell_type": "code",
   "execution_count": 8,
   "metadata": {
    "collapsed": true
   },
   "outputs": [],
   "source": [
    "a = pickle.load(open( \"/Volumes/Brain2017/spike_time_data/VISrl_Rbp4_B_580124131.p\", \"rb\" ) )\n",
    "\n"
   ]
  },
  {
   "cell_type": "code",
   "execution_count": null,
   "metadata": {
    "collapsed": true
   },
   "outputs": [],
   "source": []
  },
  {
   "cell_type": "code",
   "execution_count": 10,
   "metadata": {},
   "outputs": [
    {
     "data": {
      "text/plain": [
       "{u'natural_movie_one': array([ 2348.75792,  2348.79109,  2348.82427, ...,  2648.92378,\n",
       "         2648.95695,  2648.99013]),\n",
       " u'natural_scenes': array([ 2679.07985,  2679.11303,  2679.1462 , ...,  3206.86525,\n",
       "         3206.89843,  3206.9316 ]),\n",
       " u'spontaneous': array([ 1032.38155,  1032.41472,  1032.4479 , ...,  1327.52546,\n",
       "         1327.55863,  1327.59181]),\n",
       " u'static_gratings': array([ 3249.56217,  3249.59535,  3249.62853, ...,  3789.86334,\n",
       "         3789.89652,  3789.92969])}"
      ]
     },
     "execution_count": 10,
     "metadata": {},
     "output_type": "execute_result"
    }
   ],
   "source": [
    "a[0]"
   ]
  }
 ],
 "metadata": {
  "kernelspec": {
   "display_name": "Python [default]",
   "language": "python",
   "name": "python2"
  },
  "language_info": {
   "codemirror_mode": {
    "name": "ipython",
    "version": 2
   },
   "file_extension": ".py",
   "mimetype": "text/x-python",
   "name": "python",
   "nbconvert_exporter": "python",
   "pygments_lexer": "ipython2",
   "version": "2.7.13"
  }
 },
 "nbformat": 4,
 "nbformat_minor": 2
}
